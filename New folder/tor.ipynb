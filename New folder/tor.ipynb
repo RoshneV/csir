{
 "cells": [
  {
   "cell_type": "code",
   "execution_count": 17,
   "metadata": {},
   "outputs": [
    {
     "name": "stdout",
     "output_type": "stream",
     "text": [
      "                IP\n",
      "0   2.57.122.58/32\n",
      "1  2.57.122.215/32\n",
      "2  2.57.122.246/32\n",
      "3    2.58.56.43/32\n",
      "4    2.58.56.90/32\n",
      "<class 'str'>\n",
      "inserted successfully\n"
     ]
    }
   ],
   "source": [
    "from pymongo import MongoClient\n",
    "import requests\n",
    "import pandas as pd\n",
    "# Use the raw content URL\n",
    "url = 'https://raw.githubusercontent.com/X4BNet/lists_torexit/main/ipv4.txt'\n",
    "res = requests.get(url)\n",
    "# Print the text content of the response\n",
    "#print(res.text)\n",
    "client = MongoClient(\"mongodb://localhost:27017\")\n",
    "db = client[\"IPs\"]\n",
    "collection = db[\"tor\"]\n",
    "df = pd.DataFrame(res.text.strip().split('\\n'), columns=['IP'])\n",
    "# content_list = df['IP'].tolist()\n",
    "print(df.head())\n",
    "# Loop through each row in the list\n",
    "for  ip in df['IP']:\n",
    "    # Create a dictionary from the row\n",
    "    # data_dict = {'IP': row}\n",
    "    print(type(ip))\n",
    "    break\n",
    "    \n",
    "    # # Update or insert the document in the `tor` collection\n",
    "    # collection.replace_one({'IP': row}, data_dict, upsert=True)\n",
    "print(\"inserted successfully\")"
   ]
  }
 ],
 "metadata": {
  "kernelspec": {
   "display_name": "myenv",
   "language": "python",
   "name": "python3"
  },
  "language_info": {
   "codemirror_mode": {
    "name": "ipython",
    "version": 3
   },
   "file_extension": ".py",
   "mimetype": "text/x-python",
   "name": "python",
   "nbconvert_exporter": "python",
   "pygments_lexer": "ipython3",
   "version": "3.12.1"
  }
 },
 "nbformat": 4,
 "nbformat_minor": 2
}
